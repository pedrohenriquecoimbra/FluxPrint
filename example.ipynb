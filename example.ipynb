{
 "cells": [
  {
   "cell_type": "code",
   "execution_count": 1,
   "metadata": {},
   "outputs": [],
   "source": [
    "# built-in modules\n",
    "import pytz\n",
    "# 3-rd party modules\n",
    "import pandas as pd\n",
    "import numpy as np\n",
    "from matplotlib import pyplot\n",
    "# local modules\n",
    "import footprint_tools as fp_tools\n",
    "# from footprint_tools.model.ffp_kljun2015 import FFP_climatology, check_ffp_inputs, get_contour_levels, get_contour_vertices"
   ]
  },
  {
   "cell_type": "markdown",
   "metadata": {},
   "source": [
    "# Read"
   ]
  },
  {
   "cell_type": "markdown",
   "metadata": {},
   "source": [
    "from data"
   ]
  },
  {
   "cell_type": "code",
   "execution_count": 2,
   "metadata": {},
   "outputs": [
    {
     "name": "stdout",
     "output_type": "stream",
     "text": [
      "cannot access local variable 'psi_f' where it is not associated with a value\n"
     ]
    }
   ],
   "source": [
    "# read data\n",
    "data = (fp_tools.read_from_url('https://citydata.icos-cp.eu/licence_accept?ids=%5B%22BKqa7hKRd7IHGee7WHPOqMEN%22%5D', na_values=[-9999])\n",
    " .query('TIMESTAMP_START.astype(\"str\").str.startswith(\"20240424\")')\n",
    " .assign(TIMESTAMP=lambda x: (pd.to_datetime(x['TIMESTAMP_START'], format='%Y%m%d%H%M', utc=True)-pd.Timedelta('60Min')).dt.strftime('%y%m%d%H%M').astype(int))\n",
    " )\n",
    "\n",
    "# calculate footprint (data -> footprint dictionary)\n",
    "dic = fp_tools.calculate_footprint(data, by='TIMESTAMP', zm=102.5, z0=1, pblh=1500)\n",
    "\n",
    "# convert to netcdf (dictionary -> netcdf)\n",
    "crs = fp_tools.rasterio.crs.CRS.from_string('EPSG:3035')\n",
    "nc = fp_tools.convert_to_nc(dic, \n",
    "                            Tower_Location_Latitude=48.88514,\n",
    "                            Tower_Location_Longitude=2.42222,\n",
    "                            Tower_Location_CRS=\"EPSG:4326\",\n",
    "                            timestep={'timezone': 'UTC'},\n",
    "                            Coordinate_Reference_System=crs.to_string(),\n",
    "                            crs_projection4=crs.to_proj4(),\n",
    "                            crs_wkt=crs.to_wkt())\n",
    "nc['wind_dir'] = ('timestep', pd.merge(pd.DataFrame({'TIMESTAMP': nc.timestep.to_numpy()}),\n",
    "                                       data[['TIMESTAMP', 'WD']], on='TIMESTAMP', how='left').WD)\n",
    "fp_tools.center_footprint(nc)\n",
    "\n",
    "# convert to tif (netcdf/dictionary -> tif)\n",
    "tif = fp_tools.convert_to_tif(nc)\n",
    "\n",
    "# convert to structured data (data -> structured data)\n",
    "from_data = fp_tools.utils.structuredData(data=data,\n",
    "                                          dic=dic,\n",
    "                                          nc=nc,\n",
    "                                          tif=tif)\n",
    "\n",
    "# plot tif\n",
    "pyplot.imshow(tif.read(1), cmap='pink')\n",
    "pyplot.close()"
   ]
  },
  {
   "cell_type": "markdown",
   "metadata": {},
   "source": [
    "from .nc"
   ]
  },
  {
   "cell_type": "code",
   "execution_count": 3,
   "metadata": {},
   "outputs": [],
   "source": [
    "#'sample/output/data_to_nc/FR-Rmv_footprint_230215.nc', 'sample/input/paris_footprint_240430.nc'\n",
    "nc = fp_tools.read_handler('sample/input/paris_footprint_240424.nc')\n",
    "\n",
    "# convert to dict (netcdf -> dictionary)\n",
    "dic = fp_tools.convert_to_dict(nc, 20240424)\n",
    "\n",
    "# convert to tif (netcdf/dictionary -> tif)\n",
    "tif = fp_tools.convert_to_tif(nc)\n",
    "\n",
    "# convert to structured data (data -> structured data)\n",
    "from_nc = fp_tools.utils.structuredData(dic=dic,\n",
    "                                        nc=nc,\n",
    "                                        tif=tif)\n",
    "\n",
    "# plot tif\n",
    "pyplot.imshow(tif.read(1), cmap='pink')\n",
    "pyplot.close()"
   ]
  },
  {
   "cell_type": "markdown",
   "metadata": {},
   "source": [
    "from .tif"
   ]
  },
  {
   "cell_type": "code",
   "execution_count": 4,
   "metadata": {},
   "outputs": [],
   "source": [
    "tif = fp_tools.read_handler('sample/output/paris_footprint_from_data.tif')\n",
    "#tif = fp_tools.utils.reproject_tif(tif, 4326)\n",
    "\n",
    "# convert to dict (tif -> dictionary)\n",
    "dic = fp_tools.convert_to_dict(tif, 202404300030)\n",
    "\n",
    "# convert to netcdf (dictionary -> netcdf)\n",
    "lat, lon = fp_tools.utils.transform_coordinates(\n",
    "    *fp_tools.utils.find_middle_point(tif.bounds), crs_in=tif.crs, crs_out=\"EPSG:4326\")\n",
    "\n",
    "nc = fp_tools.convert_to_nc(dic,\n",
    "                            Tower_Location_Latitude=lat,\n",
    "                            Tower_Location_Longitude=lon,\n",
    "                            Tower_Location_CRS=\"EPSG:4326\",\n",
    "                            timestep={'timezone': 'UTC'},\n",
    "                            Coordinate_Reference_System=tif.crs.to_string(),\n",
    "                            crs_projection4=tif.crs.to_proj4(),\n",
    "                            crs_wkt=tif.crs.to_wkt())\n",
    "\n",
    "\n",
    "# convert to structured data (data -> structured data)\n",
    "from_tif = fp_tools.utils.structuredData(dic=dic,\n",
    "                                         nc=nc,\n",
    "                                         tif=tif)\n",
    "\n",
    "# plot tif\n",
    "pyplot.imshow(tif.read(1), cmap='pink')\n",
    "\n",
    "pyplot.close()"
   ]
  },
  {
   "cell_type": "markdown",
   "metadata": {},
   "source": [
    "# Tools"
   ]
  },
  {
   "cell_type": "markdown",
   "metadata": {},
   "source": [
    "Group (Climatology)"
   ]
  },
  {
   "cell_type": "code",
   "execution_count": 5,
   "metadata": {},
   "outputs": [],
   "source": [
    "# add climatology\n",
    "nc['footprint_climatology'] = (('x', 'y'), np.nanmean(nc.footprint, axis=0))"
   ]
  },
  {
   "cell_type": "markdown",
   "metadata": {},
   "source": [
    "Contours"
   ]
  },
  {
   "cell_type": "code",
   "execution_count": 6,
   "metadata": {},
   "outputs": [],
   "source": [
    "# get contour levels\n",
    "levels = fp_tools.ffp_kljun2015.get_contour_levels(\n",
    "    nc['footprint'].values[0], 10, 10, [i/10 for i in range(1, 10)])"
   ]
  },
  {
   "cell_type": "code",
   "execution_count": 7,
   "metadata": {},
   "outputs": [],
   "source": [
    "# add contour to dictionary\n",
    "footprint = fp_tools.get_contour(\n",
    "    dic[list(dic.keys())[0]], 10, 10, [i/10 for i in range(1, 10)])\n"
   ]
  },
  {
   "cell_type": "markdown",
   "metadata": {},
   "source": [
    "Move center"
   ]
  },
  {
   "cell_type": "code",
   "execution_count": 30,
   "metadata": {},
   "outputs": [
    {
     "data": {
      "text/plain": [
       "<Axes: >"
      ]
     },
     "execution_count": 30,
     "metadata": {},
     "output_type": "execute_result"
    },
    {
     "data": {
      "image/png": "[encoded data removed]",
      "text/plain": [
       "<Figure size 640x480 with 1 Axes>"
      ]
     },
     "metadata": {},
     "output_type": "display_data"
    }
   ],
   "source": [
    "from rasterio.plot import show\n",
    "from matplotlib import pyplot\n",
    "\n",
    "show(np.where(tif.read(1) < 10**-5, np.nan,\n",
    "         tif.read(1)), transform=tif.transform, cmap='Reds', ax=pyplot.gca())\n",
    "tif = fp_tools.utils.update_affine(\n",
    "    tif, c=100, f=100)\n",
    "show(np.where(tif.read(1) < 10**-5, np.nan,\n",
    "              tif.read(1)), transform=tif.transform, cmap='Blues', ax=pyplot.gca())"
   ]
  },
  {
   "cell_type": "markdown",
   "metadata": {},
   "source": [
    "folium"
   ]
  },
  {
   "cell_type": "code",
   "execution_count": 5,
   "metadata": {},
   "outputs": [
    {
     "data": {
      "text/html": [
       "<div style=\"width:100%;\"><div style=\"position:relative;width:100%;height:0;padding-bottom:60%;\"><span style=\"color:#565656\">Make this Notebook Trusted to load map: File -> Trust Notebook</span><iframe srcdoc=\"&lt;!DOCTYPE html&gt;\n",
       "&lt;html&gt;\n",
       "&lt;head&gt;\n",
       "    \n",
       "    &lt;meta http-equiv=&quot;content-type&quot; content=&quot;text/html; charset=UTF-8&quot; /&gt;\n",
       "    \n",
       "        &lt;script&gt;\n",
       "            L_NO_TOUCH = false;\n",
       "            L_DISABLE_3D = false;\n",
       "        &lt;/script&gt;\n",
       "    \n",
       "    &lt;style&gt;html, body {width: 100%;height: 100%;margin: 0;padding: 0;}&lt;/style&gt;\n",
       "    &lt;style&gt;#map {position:absolute;top:0;bottom:0;right:0;left:0;}&lt;/style&gt;\n",
       "    &lt;script src=&quot;https://cdn.jsdelivr.net/npm/leaflet@1.9.3/dist/leaflet.js&quot;&gt;&lt;/script&gt;\n",
       "    &lt;script src=&quot;https://code.jquery.com/jquery-3.7.1.min.js&quot;&gt;&lt;/script&gt;\n",
       "    &lt;script src=&quot;https://cdn.jsdelivr.net/npm/bootstrap@5.2.2/dist/js/bootstrap.bundle.min.js&quot;&gt;&lt;/script&gt;\n",
       "    &lt;script src=&quot;https://cdnjs.cloudflare.com/ajax/libs/Leaflet.awesome-markers/2.0.2/leaflet.awesome-markers.js&quot;&gt;&lt;/script&gt;\n",
       "    &lt;link rel=&quot;stylesheet&quot; href=&quot;https://cdn.jsdelivr.net/npm/leaflet@1.9.3/dist/leaflet.css&quot;/&gt;\n",
       "    &lt;link rel=&quot;stylesheet&quot; href=&quot;https://cdn.jsdelivr.net/npm/bootstrap@5.2.2/dist/css/bootstrap.min.css&quot;/&gt;\n",
       "    &lt;link rel=&quot;stylesheet&quot; href=&quot;https://netdna.bootstrapcdn.com/bootstrap/3.0.0/css/bootstrap-glyphicons.css&quot;/&gt;\n",
       "    &lt;link rel=&quot;stylesheet&quot; href=&quot;https://cdn.jsdelivr.net/npm/@fortawesome/fontawesome-free@6.2.0/css/all.min.css&quot;/&gt;\n",
       "    &lt;link rel=&quot;stylesheet&quot; href=&quot;https://cdnjs.cloudflare.com/ajax/libs/Leaflet.awesome-markers/2.0.2/leaflet.awesome-markers.css&quot;/&gt;\n",
       "    &lt;link rel=&quot;stylesheet&quot; href=&quot;https://cdn.jsdelivr.net/gh/python-visualization/folium/folium/templates/leaflet.awesome.rotate.min.css&quot;/&gt;\n",
       "    \n",
       "            &lt;meta name=&quot;viewport&quot; content=&quot;width=device-width,\n",
       "                initial-scale=1.0, maximum-scale=1.0, user-scalable=no&quot; /&gt;\n",
       "            &lt;style&gt;\n",
       "                #map_1298ad9dd5f8233032e08c70acf49ad3 {\n",
       "                    position: relative;\n",
       "                    width: 100.0%;\n",
       "                    height: 100.0%;\n",
       "                    left: 0.0%;\n",
       "                    top: 0.0%;\n",
       "                }\n",
       "                .leaflet-container { font-size: 1rem; }\n",
       "            &lt;/style&gt;\n",
       "        \n",
       "    \n",
       "                &lt;style&gt;\n",
       "                    .leaflet-image-layer {\n",
       "                        /* old android/safari*/\n",
       "                        image-rendering: -webkit-optimize-contrast;\n",
       "                        image-rendering: crisp-edges; /* safari */\n",
       "                        image-rendering: pixelated; /* chrome */\n",
       "                        image-rendering: -moz-crisp-edges; /* firefox */\n",
       "                        image-rendering: -o-crisp-edges; /* opera */\n",
       "                        -ms-interpolation-mode: nearest-neighbor; /* ie */\n",
       "                    }\n",
       "                &lt;/style&gt;\n",
       "            \n",
       "&lt;/head&gt;\n",
       "&lt;body&gt;\n",
       "    \n",
       "    \n",
       "            &lt;div class=&quot;folium-map&quot; id=&quot;map_1298ad9dd5f8233032e08c70acf49ad3&quot; &gt;&lt;/div&gt;\n",
       "        \n",
       "&lt;/body&gt;\n",
       "&lt;script&gt;\n",
       "    \n",
       "    \n",
       "            var map_1298ad9dd5f8233032e08c70acf49ad3 = L.map(\n",
       "                &quot;map_1298ad9dd5f8233032e08c70acf49ad3&quot;,\n",
       "                {\n",
       "                    center: [48.885189227891146, 2.422280783704445],\n",
       "                    crs: L.CRS.EPSG3857,\n",
       "                    ...{\n",
       "  &quot;zoom&quot;: 13,\n",
       "  &quot;zoomControl&quot;: true,\n",
       "  &quot;preferCanvas&quot;: false,\n",
       "}\n",
       "\n",
       "                }\n",
       "            );\n",
       "            L.control.scale().addTo(map_1298ad9dd5f8233032e08c70acf49ad3);\n",
       "\n",
       "            \n",
       "\n",
       "        \n",
       "    \n",
       "            var tile_layer_f481683ea82c9e9265c05b47148e5308 = L.tileLayer(\n",
       "                &quot;https://tile.openstreetmap.org/{z}/{x}/{y}.png&quot;,\n",
       "                {\n",
       "  &quot;minZoom&quot;: 0,\n",
       "  &quot;maxZoom&quot;: 19,\n",
       "  &quot;maxNativeZoom&quot;: 19,\n",
       "  &quot;noWrap&quot;: false,\n",
       "  &quot;attribution&quot;: &quot;\\u0026copy; \\u003ca href=\\&quot;https://www.openstreetmap.org/copyright\\&quot;\\u003eOpenStreetMap\\u003c/a\\u003e contributors&quot;,\n",
       "  &quot;subdomains&quot;: &quot;abc&quot;,\n",
       "  &quot;detectRetina&quot;: false,\n",
       "  &quot;tms&quot;: false,\n",
       "  &quot;opacity&quot;: 1,\n",
       "}\n",
       "\n",
       "            );\n",
       "        \n",
       "    \n",
       "            tile_layer_f481683ea82c9e9265c05b47148e5308.addTo(map_1298ad9dd5f8233032e08c70acf49ad3);\n",
       "        \n",
       "    \n",
       "            var image_overlay_4bfdc6b009c592a69d099bd811a59795 = L.imageOverlay(\n",
       "                &quot;data:image/png;base64,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&quot;,\n",
       "                [[48.8811408067311, 2.4147332545746223], [48.88923729755592, 2.429827472780271]],\n",
       "                {\n",
       "  &quot;opacity&quot;: 0.6,\n",
       "}\n",
       "            );\n",
       "        \n",
       "    \n",
       "            image_overlay_4bfdc6b009c592a69d099bd811a59795.addTo(map_1298ad9dd5f8233032e08c70acf49ad3);\n",
       "        \n",
       "&lt;/script&gt;\n",
       "&lt;/html&gt;\" style=\"position:absolute;width:100%;height:100%;left:0;top:0;border:none !important;\" allowfullscreen webkitallowfullscreen mozallowfullscreen></iframe></div></div>"
      ],
      "text/plain": [
       "<folium.folium.Map at 0x219feaf4c50>"
      ]
     },
     "execution_count": 5,
     "metadata": {},
     "output_type": "execute_result"
    }
   ],
   "source": [
    "fp_tools.utils.plot_leaflet(nc)"
   ]
  },
  {
   "cell_type": "markdown",
   "metadata": {},
   "source": [
    "# Save"
   ]
  },
  {
   "cell_type": "markdown",
   "metadata": {},
   "source": [
    "to .tif"
   ]
  },
  {
   "cell_type": "code",
   "execution_count": 6,
   "metadata": {},
   "outputs": [],
   "source": [
    "fp_tools.write_to_file(\n",
    "    from_data.tif, 'sample/output/paris_footprint_from_data.tif')\n",
    "fp_tools.write_to_file(\n",
    "    from_nc.tif, 'sample/output/paris_footprint_from_nc.tif')\n",
    "fp_tools.write_to_file(\n",
    "    from_tif.tif, 'sample/output/paris_footprint_from_tif.tif')"
   ]
  },
  {
   "cell_type": "markdown",
   "metadata": {},
   "source": [
    "to .shp"
   ]
  },
  {
   "cell_type": "code",
   "execution_count": 9,
   "metadata": {},
   "outputs": [],
   "source": [
    "fp_tools.write_to_file(\n",
    "    from_data.dic, 'sample/output/shp/paris_footprint_from_data.shp')\n",
    "fp_tools.write_to_file(\n",
    "    from_nc.dic, 'sample/output/shp/paris_footprint_from_nc.shp')\n",
    "fp_tools.write_to_file(\n",
    "    from_tif.dic, 'sample/output/shp/paris_footprint_from_tif.shp')"
   ]
  },
  {
   "cell_type": "markdown",
   "metadata": {},
   "source": [
    "to .nc"
   ]
  },
  {
   "cell_type": "code",
   "execution_count": 7,
   "metadata": {},
   "outputs": [],
   "source": [
    "fp_tools.write_to_file(\n",
    "    from_data.nc, 'sample/output/paris_footprint_from_data.nc')\n",
    "fp_tools.write_to_file(\n",
    "    from_nc.nc, 'sample/output/paris_footprint_from_nc.nc')\n",
    "fp_tools.write_to_file(\n",
    "    from_tif.nc, 'sample/output/paris_footprint_from_tif.nc')"
   ]
  },
  {
   "cell_type": "markdown",
   "metadata": {},
   "source": [
    "# From ICOS Data Portal to .tif"
   ]
  },
  {
   "cell_type": "code",
   "execution_count": null,
   "metadata": {},
   "outputs": [],
   "source": [
    "# read data\n",
    "data = (fp_tools.read_from_url('https://citydata.icos-cp.eu/licence_accept?ids=%5B%22BKqa7hKRd7IHGee7WHPOqMEN%22%5D', na_values=[-9999])\n",
    "        .query('TIMESTAMP_START.astype(\"str\").str.startswith(\"20240424\")')\n",
    "        .assign(TIMESTAMP=lambda x: (pd.to_datetime(x['TIMESTAMP_START'], format='%Y%m%d%H%M', utc=True)-pd.Timedelta('60Min')).dt.strftime('%y%m%d%H%M').astype(int))\n",
    "        )\n",
    "\n",
    "# calculate footprint (data -> footprint dictionary)\n",
    "dic = fp_tools.calculate_footprint(\n",
    "    data, by='TIMESTAMP', zm=102.5, z0=1, pblh=1500)\n",
    "\n",
    "# convert to netcdf (dictionary -> netcdf)\n",
    "crs = fp_tools.rasterio.crs.CRS.from_string('EPSG:3035')\n",
    "nc = fp_tools.convert_to_nc(dic,\n",
    "                            Tower_Location_Latitude=48.88514,\n",
    "                            Tower_Location_Longitude=2.42222,\n",
    "                            Tower_Location_CRS=\"EPSG:4326\",\n",
    "                            timestep={'timezone': 'UTC'},\n",
    "                            Coordinate_Reference_System=crs.to_string(),\n",
    "                            crs_projection4=crs.to_proj4(),\n",
    "                            crs_wkt=crs.to_wkt())\n",
    "nc['wind_dir'] = ('timestep', pd.merge(pd.DataFrame({'TIMESTAMP': nc.timestep.to_numpy()}),\n",
    "                                       data[['TIMESTAMP', 'WD']], on='TIMESTAMP', how='left').WD)\n",
    "fp_tools.center_footprint(nc)\n",
    "\n",
    "# convert to tif (netcdf/dictionary -> tif)\n",
    "tif = fp_tools.convert_to_tif(nc)\n",
    "\n",
    "# save tif\n",
    "fp_tools.write_to_file(\n",
    "    tif, 'sample/output/paris_footprint_from_data.tif')\n",
    "\n",
    "# plot tif\n",
    "pyplot.imshow(tif.read(1), cmap='pink')\n",
    "pyplot.close()"
   ]
  }
 ],
 "metadata": {
  "kernelspec": {
   "display_name": "fpaddon",
   "language": "python",
   "name": "python3"
  },
  "language_info": {
   "codemirror_mode": {
    "name": "ipython",
    "version": 3
   },
   "file_extension": ".py",
   "mimetype": "text/x-python",
   "name": "python",
   "nbconvert_exporter": "python",
   "pygments_lexer": "ipython3",
   "version": "3.12.5"
  }
 },
 "nbformat": 4,
 "nbformat_minor": 2
}
